{
 "cells": [
  {
   "cell_type": "markdown",
   "metadata": {},
   "source": [
    "# Import Libraries"
   ]
  },
  {
   "cell_type": "code",
   "execution_count": null,
   "metadata": {
    "execution": {
     "iopub.execute_input": "2022-09-19T04:15:16.983232Z",
     "iopub.status.busy": "2022-09-19T04:15:16.982106Z",
     "iopub.status.idle": "2022-09-19T04:15:21.103219Z",
     "shell.execute_reply": "2022-09-19T04:15:21.101540Z"
    }
   },
   "outputs": [],
   "source": [
    "import pandas as pd\n",
    "import numpy as np\n",
    "import pickle\n",
    "import matplotlib.pyplot as plt\n",
    "import seaborn as sns\n",
    "import logging\n",
    "\n",
    "from sklearn.compose import make_column_selector, ColumnTransformer\n",
    "from sklearn.impute import SimpleImputer\n",
    "from sklearn.preprocessing import OneHotEncoder, StandardScaler\n",
    "\n",
    "from sklearn.linear_model import LogisticRegression\n",
    "from sklearn.ensemble import RandomForestClassifier\n",
    "from sklearn.model_selection import train_test_split, KFold, cross_val_score, cross_validate\n",
    "\n",
    "from sklearn.pipeline import Pipeline\n",
    "from sklearn.metrics import roc_curve, roc_auc_score, precision_recall_curve, auc, average_precision_score, precision_score, recall_score, precision_recall_fscore_support, fbeta_score, accuracy_score, confusion_matrix, RocCurveDisplay, PrecisionRecallDisplay, ConfusionMatrixDisplay, make_scorer\n",
    "from sklearn.inspection import permutation_importance\n",
    "\n",
    "from scipy import stats\n",
    "\n",
    "from PipelineObjects import *"
   ]
  },
  {
   "cell_type": "code",
   "execution_count": null,
   "metadata": {
    "execution": {
     "iopub.execute_input": "2022-09-19T04:15:21.109247Z",
     "iopub.status.busy": "2022-09-19T04:15:21.108650Z",
     "iopub.status.idle": "2022-09-19T04:15:21.115217Z",
     "shell.execute_reply": "2022-09-19T04:15:21.113332Z"
    }
   },
   "outputs": [],
   "source": [
    "# This sets the logging level for custom transformers defined in PipelineObjects\n",
    "set_log_level(logging.WARN)"
   ]
  },
  {
   "cell_type": "markdown",
   "metadata": {},
   "source": [
    "# Import Data"
   ]
  },
  {
   "cell_type": "code",
   "execution_count": null,
   "metadata": {
    "execution": {
     "iopub.execute_input": "2022-09-19T04:15:21.124155Z",
     "iopub.status.busy": "2022-09-19T04:15:21.123561Z",
     "iopub.status.idle": "2022-09-19T04:16:39.464332Z",
     "shell.execute_reply": "2022-09-19T04:16:39.461361Z"
    }
   },
   "outputs": [],
   "source": [
    "# Read in file while dropping the ones without a 'Make' field to reduce memory footprint\n",
    "file = 'data.csv'\n",
    "\n",
    "# Get the full dataset to generate the model. For shorter tests, read a smaller number of rows as below\n",
    "df_raw = pd.DataFrame()\n",
    "with pd.read_csv(file, chunksize=1000000) as chunks:\n",
    "  for chunk in chunks:\n",
    "    chunk.dropna(axis=0, subset=['Make'], inplace=True) # Dropping all rows with any NaN value\n",
    "    df_raw = pd.concat([df_raw, chunk])\n",
    "del chunks\n",
    "\n",
    "# # For shorter tests, get only a small number of rows\n",
    "# df_raw = pd.read_csv(file, nrows=50000)\n",
    "# df_raw.dropna(subset='Make', inplace=True)\n",
    "\n",
    "# This is used to get a continuous index on the raw dataframe\n",
    "df_raw.reset_index(inplace=True, drop=True)\n",
    "\n",
    "print(f'# Records: {len(df_raw)}')"
   ]
  },
  {
   "cell_type": "markdown",
   "metadata": {},
   "source": [
    "## Set up target"
   ]
  },
  {
   "cell_type": "code",
   "execution_count": null,
   "metadata": {
    "execution": {
     "iopub.execute_input": "2022-09-19T04:16:39.480364Z",
     "iopub.status.busy": "2022-09-19T04:16:39.479698Z",
     "iopub.status.idle": "2022-09-19T04:16:42.502147Z",
     "shell.execute_reply": "2022-09-19T04:16:42.500196Z"
    }
   },
   "outputs": [],
   "source": [
    "# Get set of top 25 manufacturers\n",
    "top25 = set(df_raw['Make'].value_counts(dropna=True, ascending=False)[:25].index.to_list())\n",
    "\n",
    "# If Make is in top 25 manufacturers, then set top25 to 1, else 0\n",
    "cond = df_raw['Make'].isin(top25)\n",
    "df_raw.loc[cond, 'top25'] = 1\n",
    "df_raw.loc[~cond, 'top25'] = 0\n",
    "\n",
    "# See distribution of top25\n",
    "print(df_raw['top25'].value_counts(dropna=False)/len(df_raw))\n",
    "plt.hist(x=df_raw['top25'])\n",
    "plt.grid()\n",
    "plt.title('Distribution of top25')\n",
    "plt.show()"
   ]
  },
  {
   "cell_type": "markdown",
   "metadata": {},
   "source": [
    "## Rename Columns"
   ]
  },
  {
   "cell_type": "code",
   "execution_count": null,
   "metadata": {
    "execution": {
     "iopub.execute_input": "2022-09-19T04:16:42.509947Z",
     "iopub.status.busy": "2022-09-19T04:16:42.509165Z",
     "iopub.status.idle": "2022-09-19T04:16:43.553235Z",
     "shell.execute_reply": "2022-09-19T04:16:43.552319Z"
    }
   },
   "outputs": [],
   "source": [
    "# Columns are renamed for better readability\n",
    "col_rename = {\n",
    "  'Ticket number': 'TicketNum',\n",
    "  'Issue Date': 'IssueDate',\n",
    "  'Issue time': 'IssueTime', \n",
    "  'Meter Id': 'MeterID', \n",
    "  'Marked Time': 'MarkedTime',\n",
    "  'RP State Plate': 'StatePlate', \n",
    "  'Plate Expiry Date': 'PlateExpiration', \n",
    "  'Body Style': 'BodyStyle',\n",
    "  'Violation code': 'ViolationCode',\n",
    "  'Violation Description': 'ViolationDesc',\n",
    "  'Fine amount': 'Fine',\n",
    "}\n",
    "df_raw.rename(columns=col_rename, inplace=True)\n",
    "\n",
    "# set issue date as datetime type\n",
    "df_raw['IssueDate'] = df_raw['IssueDate'].astype('datetime64[ns]')"
   ]
  },
  {
   "cell_type": "markdown",
   "metadata": {},
   "source": [
    "## Drop identifier columns"
   ]
  },
  {
   "cell_type": "code",
   "execution_count": null,
   "metadata": {
    "execution": {
     "iopub.execute_input": "2022-09-19T04:16:43.564816Z",
     "iopub.status.busy": "2022-09-19T04:16:43.562511Z",
     "iopub.status.idle": "2022-09-19T04:16:45.922010Z",
     "shell.execute_reply": "2022-09-19T04:16:45.915790Z"
    }
   },
   "outputs": [],
   "source": [
    "to_drop = ['VIN', 'TicketNum']\n",
    "df_raw.drop(columns=to_drop, inplace=True)"
   ]
  },
  {
   "cell_type": "markdown",
   "metadata": {},
   "source": [
    "# Data Exploration"
   ]
  },
  {
   "cell_type": "markdown",
   "metadata": {},
   "source": [
    "## Generic Properties"
   ]
  },
  {
   "cell_type": "markdown",
   "metadata": {},
   "source": [
    "First 5 rows"
   ]
  },
  {
   "cell_type": "code",
   "execution_count": null,
   "metadata": {
    "execution": {
     "iopub.execute_input": "2022-09-19T04:16:45.938850Z",
     "iopub.status.busy": "2022-09-19T04:16:45.938126Z",
     "iopub.status.idle": "2022-09-19T04:16:46.014404Z",
     "shell.execute_reply": "2022-09-19T04:16:46.012848Z"
    }
   },
   "outputs": [],
   "source": [
    "df_raw.head()"
   ]
  },
  {
   "cell_type": "markdown",
   "metadata": {},
   "source": [
    "Description"
   ]
  },
  {
   "cell_type": "code",
   "execution_count": null,
   "metadata": {
    "execution": {
     "iopub.execute_input": "2022-09-19T04:16:46.023476Z",
     "iopub.status.busy": "2022-09-19T04:16:46.022658Z",
     "iopub.status.idle": "2022-09-19T04:16:50.180079Z",
     "shell.execute_reply": "2022-09-19T04:16:50.171108Z"
    }
   },
   "outputs": [],
   "source": [
    "df_raw.describe()"
   ]
  },
  {
   "cell_type": "markdown",
   "metadata": {},
   "source": [
    "Data types"
   ]
  },
  {
   "cell_type": "code",
   "execution_count": null,
   "metadata": {
    "execution": {
     "iopub.execute_input": "2022-09-19T04:16:50.224715Z",
     "iopub.status.busy": "2022-09-19T04:16:50.217639Z",
     "iopub.status.idle": "2022-09-19T04:16:50.246542Z",
     "shell.execute_reply": "2022-09-19T04:16:50.243974Z"
    }
   },
   "outputs": [],
   "source": [
    "df_raw.dtypes"
   ]
  },
  {
   "cell_type": "markdown",
   "metadata": {},
   "source": [
    "Missing values"
   ]
  },
  {
   "cell_type": "code",
   "execution_count": null,
   "metadata": {
    "execution": {
     "iopub.execute_input": "2022-09-19T04:16:50.263053Z",
     "iopub.status.busy": "2022-09-19T04:16:50.262085Z",
     "iopub.status.idle": "2022-09-19T04:17:01.810297Z",
     "shell.execute_reply": "2022-09-19T04:17:01.809072Z"
    }
   },
   "outputs": [],
   "source": [
    "\n",
    "# Get the percentage of each column that is missing (sorted in descending order)\n",
    "missing = df_raw.isna().mean().sort_values(ascending=False)\n",
    "cond = missing != 0\n",
    "missing[cond]"
   ]
  },
  {
   "cell_type": "code",
   "execution_count": null,
   "metadata": {
    "execution": {
     "iopub.execute_input": "2022-09-19T04:17:01.818092Z",
     "iopub.status.busy": "2022-09-19T04:17:01.817669Z",
     "iopub.status.idle": "2022-09-19T04:17:02.995001Z",
     "shell.execute_reply": "2022-09-19T04:17:02.993006Z"
    }
   },
   "outputs": [],
   "source": [
    "# Drop MarkedTime since over 95% of it is missing anyway\n",
    "df_raw.drop(columns=['MarkedTime'], inplace=True)"
   ]
  },
  {
   "cell_type": "markdown",
   "metadata": {},
   "source": [
    "Correlations"
   ]
  },
  {
   "cell_type": "code",
   "execution_count": null,
   "metadata": {
    "execution": {
     "iopub.execute_input": "2022-09-19T04:17:03.006462Z",
     "iopub.status.busy": "2022-09-19T04:17:03.005940Z",
     "iopub.status.idle": "2022-09-19T04:17:05.133561Z",
     "shell.execute_reply": "2022-09-19T04:17:05.132391Z"
    }
   },
   "outputs": [],
   "source": [
    "# Get correations\n",
    "corr = df_raw.corr()\n",
    "\n",
    "# Set up the matplotlib figure\n",
    "f, ax = plt.subplots(figsize=(8,8))\n",
    "\n",
    "# Generate a mask for the upper triangle\n",
    "mask = np.triu(np.ones_like(corr, dtype=bool))\n",
    "\n",
    "# Generate a custom diverging colormap\n",
    "cmap = sns.diverging_palette(230, 20, as_cmap=True)\n",
    "\n",
    "# Draw the heatmap with the mask and correct aspect ratio\n",
    "sns.heatmap(corr, mask=mask, cmap=cmap, vmax=.3, center=0, square=True, linewidths=.5, cbar_kws={\"shrink\": .5});"
   ]
  },
  {
   "cell_type": "markdown",
   "metadata": {},
   "source": [
    "## Features"
   ]
  },
  {
   "cell_type": "markdown",
   "metadata": {},
   "source": [
    "The features `['BodyStyle', 'Color', 'StatePlate']` seem most promising as shown below"
   ]
  },
  {
   "cell_type": "markdown",
   "metadata": {},
   "source": [
    "### Categorical"
   ]
  },
  {
   "cell_type": "code",
   "execution_count": null,
   "metadata": {
    "execution": {
     "iopub.execute_input": "2022-09-19T04:17:05.138897Z",
     "iopub.status.busy": "2022-09-19T04:17:05.138505Z",
     "iopub.status.idle": "2022-09-19T04:17:11.883600Z",
     "shell.execute_reply": "2022-09-19T04:17:11.881534Z"
    }
   },
   "outputs": [],
   "source": [
    "# Check dimensionality for each categorical variable. This is useful to see which features are too fragmented for OHE\n",
    "for _ in df_raw.select_dtypes(exclude=['float', 'int']).columns:\n",
    "  print(f'{_}: {len(df_raw[_].value_counts(dropna=False))}')"
   ]
  },
  {
   "cell_type": "code",
   "execution_count": null,
   "metadata": {
    "execution": {
     "iopub.execute_input": "2022-09-19T04:17:11.890856Z",
     "iopub.status.busy": "2022-09-19T04:17:11.889770Z",
     "iopub.status.idle": "2022-09-19T04:17:12.102491Z",
     "shell.execute_reply": "2022-09-19T04:17:12.101055Z"
    }
   },
   "outputs": [],
   "source": [
    "# Exploring the StatePlate feature since that is higher than expected:\n",
    "# copied list of state codes from from https://www.bls.gov/respondents/mwr/electronic-data-interchange/appendix-d-usps-state-abbreviations-and-fips-codes.htm\n",
    "# These frequencies are low enough and will be taken care of by the aggregation.\n",
    "\n",
    "states = set(['AL','AK','AZ','AR','CA','CO','CT','DE','DC','FL','GA','HI','ID','IL','IN','IA','KS','KY','LA','ME','MD','MA','MI','MN','MS','MO','MT','NE','NV','NH','NJ','NM','NY','NC','ND','OH','OK','OR','PA','PR','RI','SC','SD','TN','TX','UT','VT','VA','VI','WA','WV','WI','WY'])\n",
    "\n",
    "ll = df_raw['StatePlate'].value_counts(dropna=False)\n",
    "for i, v in ll.iteritems():\n",
    "  if i not in states:\n",
    "    print(i, v)"
   ]
  },
  {
   "cell_type": "code",
   "execution_count": null,
   "metadata": {
    "execution": {
     "iopub.execute_input": "2022-09-19T04:17:12.109196Z",
     "iopub.status.busy": "2022-09-19T04:17:12.108756Z",
     "iopub.status.idle": "2022-09-19T04:19:05.642538Z",
     "shell.execute_reply": "2022-09-19T04:19:05.641335Z"
    }
   },
   "outputs": [],
   "source": [
    "# Applying the category aggregator to the features of interest reduces the cardinality.\n",
    "# The thresholds were chosen to get 4-6 values per feature.\n",
    "aggregators = {\n",
    "  'BodyStyle': CategoryAggregator(cols=['BodyStyle'], threshold=0.99, convert_num=False),\n",
    "  'Color': CategoryAggregator(cols=['Color'], threshold=0.85, convert_num=False),\n",
    "  'StatePlate': CategoryAggregator(cols=['StatePlate'], threshold=0.96, convert_num=False),\n",
    "}\n",
    "\n",
    "for col, agg in aggregators.items():\n",
    "  print(col)\n",
    "  print(agg.fit_transform(df_raw[[col]]).value_counts(dropna=False))\n",
    "  print('---')"
   ]
  },
  {
   "cell_type": "markdown",
   "metadata": {},
   "source": [
    "### Numerical"
   ]
  },
  {
   "cell_type": "code",
   "execution_count": null,
   "metadata": {
    "execution": {
     "iopub.execute_input": "2022-09-19T04:19:05.647897Z",
     "iopub.status.busy": "2022-09-19T04:19:05.647455Z",
     "iopub.status.idle": "2022-09-19T04:19:18.138657Z",
     "shell.execute_reply": "2022-09-19T04:19:18.137111Z"
    }
   },
   "outputs": [],
   "source": [
    "for _ in df_raw.select_dtypes(include=['float', 'int']).columns:\n",
    "  cond = df_raw['top25'] == 1\n",
    "  print(_)\n",
    "  plt.hist(x=df_raw[cond][_], color='blue', alpha=1.0, label='top25 = 1')\n",
    "  plt.hist(x=df_raw[~cond][_], color='red', alpha=0.7, label='top25 = 0')\n",
    "  plt.title(_)\n",
    "  plt.grid()\n",
    "  plt.legend()\n",
    "  plt.show()"
   ]
  },
  {
   "cell_type": "code",
   "execution_count": null,
   "metadata": {
    "execution": {
     "iopub.execute_input": "2022-09-19T04:19:18.145073Z",
     "iopub.status.busy": "2022-09-19T04:19:18.144341Z",
     "iopub.status.idle": "2022-09-19T04:20:03.085712Z",
     "shell.execute_reply": "2022-09-19T04:20:03.084805Z"
    }
   },
   "outputs": [],
   "source": [
    "# There does not seem to be any correlation between top25 and Latitude / Longitude\n",
    "# There are a number of outliers that affect the scale of the plot. The condition below only selects records that are within a certain number of standard deviations from the mean.\n",
    "cond = (\n",
    "  (abs(stats.zscore(df_raw['Latitude'], nan_policy='omit')) < 1.2) & \n",
    "  (abs(stats.zscore(df_raw['Longitude'], nan_policy='omit')) < 1.2)\n",
    ")\n",
    "\n",
    "cond0 = df_raw['top25'] == 0\n",
    "cond1 = df_raw['top25'] == 1\n",
    "\n",
    "plt.scatter(df_raw[cond & cond1]['Longitude'], df_raw[cond & cond1]['Latitude'], color='blue', label='top25 = 1', alpha=0.5)\n",
    "plt.scatter(df_raw[cond & cond0]['Longitude'], df_raw[cond & cond0]['Latitude'], color='red', label='top25 = 0', alpha=0.6)\n",
    "plt.legend()\n",
    "plt.grid()\n",
    "plt.show()"
   ]
  },
  {
   "cell_type": "markdown",
   "metadata": {},
   "source": [
    "# Modeling"
   ]
  },
  {
   "cell_type": "markdown",
   "metadata": {},
   "source": [
    "## Set up training / test set and input features"
   ]
  },
  {
   "cell_type": "code",
   "execution_count": null,
   "metadata": {
    "execution": {
     "iopub.execute_input": "2022-09-19T04:20:03.091023Z",
     "iopub.status.busy": "2022-09-19T04:20:03.090661Z",
     "iopub.status.idle": "2022-09-19T04:20:05.267090Z",
     "shell.execute_reply": "2022-09-19T04:20:05.266012Z"
    }
   },
   "outputs": [],
   "source": [
    "input_features = ['BodyStyle', 'Color', 'StatePlate']\n",
    "\n",
    "X = df_raw[input_features].copy()\n",
    "y = df_raw['top25'].copy()\n",
    "\n",
    "# Train and test\n",
    "X_train, X_test, y_train, y_test = train_test_split(X, y, test_size=0.2, random_state=42 )"
   ]
  },
  {
   "cell_type": "markdown",
   "metadata": {},
   "source": [
    "## Set up pipeline"
   ]
  },
  {
   "cell_type": "markdown",
   "metadata": {},
   "source": [
    "Some custom transformers (defined in `./PipelineObjects.py`) are used here."
   ]
  },
  {
   "cell_type": "code",
   "execution_count": null,
   "metadata": {
    "execution": {
     "iopub.execute_input": "2022-09-19T04:20:05.272390Z",
     "iopub.status.busy": "2022-09-19T04:20:05.272040Z",
     "iopub.status.idle": "2022-09-19T04:20:05.522903Z",
     "shell.execute_reply": "2022-09-19T04:20:05.521796Z"
    }
   },
   "outputs": [],
   "source": [
    "# A feature selector lets the user have an arbitrary input, the model only picks up the features it needs\n",
    "feature_selector = FeatureSelector(features=input_features)\n",
    "\n",
    "# This aggregates the values in a given column as 'other' once the given threshold is met. The convert_num flag is used to convert a given category to a numerical value (frequency )\n",
    "# Some testing is done to get the threshold so the aggregate categories have 4-6 unique values\n",
    "agg_body = CategoryAggregator(cols=['BodyStyle'], threshold=0.99, convert_num=False)\n",
    "agg_color = CategoryAggregator(cols=['Color'], threshold=0.85, convert_num=False)\n",
    "agg_state = CategoryAggregator(cols=['StatePlate'], threshold=0.96, convert_num=False)\n",
    "\n",
    "\n",
    "# Set up generic numeric and categorical transformers for imputation, scaling, and OHE\n",
    "numeric_transformer = Pipeline(\n",
    "  steps=[\n",
    "    (\"imputer\", SimpleImputer(strategy=\"mean\")),\n",
    "    (\"scaler\", StandardScaler()),\n",
    "  ]\n",
    ")\n",
    "\n",
    "categorical_transformer = Pipeline(\n",
    "  steps=[\n",
    "    (\"imputer\", SimpleImputer(strategy=\"constant\", fill_value=\"missing\")),\n",
    "    (\"onehot\", OneHotEncoder(sparse=False, handle_unknown=\"ignore\", drop='if_binary')),\n",
    "  ]\n",
    ")\n",
    "\n",
    "final_transformer = ColumnTransformer(\n",
    "  [\n",
    "    # final transformations            \n",
    "    (\"numerical\", numeric_transformer, make_column_selector(dtype_include=['float', 'int'])),\n",
    "    (\"categorical\", categorical_transformer, make_column_selector(dtype_include=['category'])),\n",
    "\n",
    "  ],\n",
    "  remainder=\"passthrough\",\n",
    ")\n",
    "\n",
    "# Set up model\n",
    "model = RandomForestClassifier( \n",
    "  n_estimators=100,\n",
    "  min_samples_leaf=15,\n",
    "  max_features=\"sqrt\",\n",
    "  n_jobs=-1,\n",
    "  random_state=42\n",
    ")\n",
    "\n",
    "# model = LogisticRegression(\n",
    "#   penalty='l2',\n",
    "#   C=0.01,\n",
    "#   random_state=42\n",
    "# )\n",
    "\n",
    "\n",
    "# Combine all transformers and model into a pipeline\n",
    "pipe = Pipeline(\n",
    "  [\n",
    "    ('feature_selector', feature_selector),\n",
    "    ('agg_body',agg_body), \n",
    "    ('agg_color',agg_color), \n",
    "    ('agg_state',agg_state), \n",
    "    ('final_transformer', final_transformer),\n",
    "    ('model', model)\n",
    "  ]\n",
    ")"
   ]
  },
  {
   "cell_type": "markdown",
   "metadata": {},
   "source": [
    "## Fit Pipeline"
   ]
  },
  {
   "cell_type": "code",
   "execution_count": null,
   "metadata": {
    "execution": {
     "iopub.execute_input": "2022-09-19T04:20:05.528715Z",
     "iopub.status.busy": "2022-09-19T04:20:05.528314Z",
     "iopub.status.idle": "2022-09-19T04:24:08.330277Z",
     "shell.execute_reply": "2022-09-19T04:24:08.327127Z"
    }
   },
   "outputs": [],
   "source": [
    "sample_size = len(X_train)\n",
    "pipe.fit(X_train[:sample_size], y_train[:sample_size])"
   ]
  },
  {
   "cell_type": "markdown",
   "metadata": {},
   "source": [
    "# Metrics"
   ]
  },
  {
   "cell_type": "code",
   "execution_count": null,
   "metadata": {
    "execution": {
     "iopub.execute_input": "2022-09-19T04:24:08.352168Z",
     "iopub.status.busy": "2022-09-19T04:24:08.351575Z",
     "iopub.status.idle": "2022-09-19T04:24:20.145147Z",
     "shell.execute_reply": "2022-09-19T04:24:20.144198Z"
    }
   },
   "outputs": [],
   "source": [
    "metrics = {}\n",
    "y_pred = pipe.predict(X_test)\n",
    "y_pred_proba = pipe.predict_proba(X_test)[:, 1]"
   ]
  },
  {
   "cell_type": "markdown",
   "metadata": {},
   "source": [
    "## ROC"
   ]
  },
  {
   "cell_type": "code",
   "execution_count": null,
   "metadata": {
    "execution": {
     "iopub.execute_input": "2022-09-19T04:24:20.150535Z",
     "iopub.status.busy": "2022-09-19T04:24:20.150139Z",
     "iopub.status.idle": "2022-09-19T04:24:21.867563Z",
     "shell.execute_reply": "2022-09-19T04:24:21.862427Z"
    }
   },
   "outputs": [],
   "source": [
    "metrics['roc_auc'] = roc_auc_score(y_test, y_pred_proba)\n",
    "print(f\"ROC AUC: {metrics['roc_auc']:0.4f}\")\n",
    "\n",
    "RocCurveDisplay.from_predictions(y_test, y_pred_proba)\n",
    "plt.title(f'ROC Curve')\n",
    "plt.plot([0,1], [0,1], linestyle='--', label='No Skill')\n",
    "plt.legend()\n",
    "plt.grid()\n",
    "plt.savefig('./plots/ROC.png')\n",
    "plt.show()"
   ]
  },
  {
   "cell_type": "markdown",
   "metadata": {},
   "source": [
    "## Precision Recall"
   ]
  },
  {
   "cell_type": "code",
   "execution_count": null,
   "metadata": {
    "execution": {
     "iopub.execute_input": "2022-09-19T04:24:21.882052Z",
     "iopub.status.busy": "2022-09-19T04:24:21.880238Z",
     "iopub.status.idle": "2022-09-19T04:24:23.645588Z",
     "shell.execute_reply": "2022-09-19T04:24:23.643804Z"
    }
   },
   "outputs": [],
   "source": [
    "metrics['avg_prec'] = average_precision_score(y_test, y_pred_proba)\n",
    "print(f\"ROC AUC: {metrics['avg_prec']:0.4f}\")\n",
    "\n",
    "baseline=np.sum(y_test==1)/len(y_test)\n",
    "PrecisionRecallDisplay.from_predictions(y_test, y_pred_proba)\n",
    "plt.title(f'Precision Recall Curve')\n",
    "plt.plot([0, 1], [baseline, baseline], linestyle='--', label='No Skill')\n",
    "plt.legend()\n",
    "plt.grid()\n",
    "plt.savefig('./plots/PrecisionRecall.png')\n",
    "plt.show()"
   ]
  },
  {
   "cell_type": "markdown",
   "metadata": {},
   "source": [
    "## Accuracy"
   ]
  },
  {
   "cell_type": "code",
   "execution_count": null,
   "metadata": {
    "execution": {
     "iopub.execute_input": "2022-09-19T04:24:23.652480Z",
     "iopub.status.busy": "2022-09-19T04:24:23.652004Z",
     "iopub.status.idle": "2022-09-19T04:24:47.837637Z",
     "shell.execute_reply": "2022-09-19T04:24:47.835996Z"
    }
   },
   "outputs": [],
   "source": [
    "thresholds = np.arange(0, 1, 0.005)\n",
    "accuracies = [accuracy_score(y_test, y_pred_proba > t) for t in thresholds]\n",
    "idx = np.argmax(accuracies)\n",
    "optimal_threshold = thresholds[idx]\n",
    "optimal_metric = accuracies[idx]\n",
    "plt.plot(thresholds, accuracies, label='Accuracy')\n",
    "plt.title(f'Raw Accuracy\\nBest Accuracy={optimal_metric:0.2f}, Best Threshold={optimal_threshold:0.2f}')\n",
    "plt.scatter(optimal_threshold, optimal_metric, label=f'Best', color='black')\n",
    "plt.axvline(optimal_threshold, linestyle='--')\n",
    "plt.xlabel('Threshold')\n",
    "plt.ylabel('Accuracy')\n",
    "plt.grid()\n",
    "plt.legend()\n",
    "plt.savefig('./plots/Accuracy.png')\n",
    "plt.show()"
   ]
  },
  {
   "cell_type": "markdown",
   "metadata": {},
   "source": [
    "## Confusion Matrix"
   ]
  },
  {
   "cell_type": "code",
   "execution_count": null,
   "metadata": {
    "execution": {
     "iopub.execute_input": "2022-09-19T04:24:47.844234Z",
     "iopub.status.busy": "2022-09-19T04:24:47.843861Z",
     "iopub.status.idle": "2022-09-19T04:24:49.373468Z",
     "shell.execute_reply": "2022-09-19T04:24:49.372453Z"
    }
   },
   "outputs": [],
   "source": [
    "ConfusionMatrixDisplay.from_predictions(y_test, y_pred)\n",
    "plt.title(f'Confusion Matrix')\n",
    "plt.savefig('./plots/ConfusionMatrix.png')\n",
    "plt.show()"
   ]
  },
  {
   "cell_type": "markdown",
   "metadata": {},
   "source": [
    "## Feature Importances"
   ]
  },
  {
   "cell_type": "code",
   "execution_count": null,
   "metadata": {
    "execution": {
     "iopub.execute_input": "2022-09-19T04:24:49.378560Z",
     "iopub.status.busy": "2022-09-19T04:24:49.378134Z",
     "iopub.status.idle": "2022-09-19T04:25:00.294271Z",
     "shell.execute_reply": "2022-09-19T04:25:00.292581Z"
    }
   },
   "outputs": [],
   "source": [
    "def get_col_names(X, pipe):\n",
    "  X_ = X.copy()\n",
    "  # assumes final_transformer and then model are the last two steps\n",
    "  for i in range(len(pipe)-2):\n",
    "    X_ = pipe[i].transform(X_)\n",
    "\n",
    "  # select the cols that will be input to the OHE and use get_feature_names_out to transform them to the ohe encoded versions\n",
    "  cat_cols = X_.select_dtypes(exclude=['float', 'int']).columns\n",
    "  ohe_cols = pipe.named_steps['final_transformer'].named_transformers_['categorical'].named_steps['onehot'].get_feature_names_out(cat_cols)\n",
    "\n",
    "  # get the full list of columns (numeric and ohe-encoded)\n",
    "  full_list = X_.select_dtypes(include=['float', 'int']).columns.to_list()+list(ohe_cols)\n",
    "  return full_list\n",
    "\n",
    "feature_names = get_col_names(X, pipe)"
   ]
  },
  {
   "cell_type": "code",
   "execution_count": null,
   "metadata": {
    "execution": {
     "iopub.execute_input": "2022-09-19T04:25:00.304120Z",
     "iopub.status.busy": "2022-09-19T04:25:00.303420Z",
     "iopub.status.idle": "2022-09-19T04:25:01.102364Z",
     "shell.execute_reply": "2022-09-19T04:25:01.100951Z"
    }
   },
   "outputs": [],
   "source": [
    "# importances = pipe['model'].coef_[0]\n",
    "importances = pipe['model'].feature_importances_\n",
    "sorted_idx = (-abs(importances)).argsort()\n",
    "feature_imp_df = pd.DataFrame({'features': np.array(feature_names)[sorted_idx], 'importances': importances[sorted_idx]}, feature_names)\n",
    "plt.xticks(rotation='vertical')\n",
    "plt.title('Feature Importance', fontsize=14)\n",
    "plt.bar(feature_imp_df.features, feature_imp_df.importances)\n",
    "plt.savefig('./plots/FeatureImportance.png')\n"
   ]
  },
  {
   "cell_type": "markdown",
   "metadata": {},
   "source": [
    "## Metrics Summary"
   ]
  },
  {
   "cell_type": "code",
   "execution_count": null,
   "metadata": {
    "execution": {
     "iopub.execute_input": "2022-09-19T04:25:01.110882Z",
     "iopub.status.busy": "2022-09-19T04:25:01.110270Z",
     "iopub.status.idle": "2022-09-19T04:25:01.127715Z",
     "shell.execute_reply": "2022-09-19T04:25:01.125082Z"
    }
   },
   "outputs": [],
   "source": [
    "pd.DataFrame.from_dict(metrics, orient='index', columns=['Value'])"
   ]
  },
  {
   "cell_type": "markdown",
   "metadata": {},
   "source": [
    "# Save Model"
   ]
  },
  {
   "cell_type": "code",
   "execution_count": null,
   "metadata": {
    "execution": {
     "iopub.execute_input": "2022-09-19T04:25:01.138386Z",
     "iopub.status.busy": "2022-09-19T04:25:01.137685Z",
     "iopub.status.idle": "2022-09-19T04:25:01.159163Z",
     "shell.execute_reply": "2022-09-19T04:25:01.157989Z"
    }
   },
   "outputs": [],
   "source": [
    "file = 'model.pkl'\n",
    "pickle.dump(pipe, open(file, 'wb'))"
   ]
  },
  {
   "cell_type": "code",
   "execution_count": null,
   "metadata": {},
   "outputs": [],
   "source": []
  }
 ],
 "metadata": {
  "kernelspec": {
   "display_name": "Python 3.8.9 64-bit",
   "language": "python",
   "name": "python3"
  },
  "language_info": {
   "codemirror_mode": {
    "name": "ipython",
    "version": 3
   },
   "file_extension": ".py",
   "mimetype": "text/x-python",
   "name": "python",
   "nbconvert_exporter": "python",
   "pygments_lexer": "ipython3",
   "version": "3.8.9"
  },
  "vscode": {
   "interpreter": {
    "hash": "31f2aee4e71d21fbe5cf8b01ff0e069b9275f58929596ceb00d14d90e3e16cd6"
   }
  }
 },
 "nbformat": 4,
 "nbformat_minor": 2
}
